{
 "cells": [
  {
   "cell_type": "code",
   "execution_count": 735,
   "metadata": {},
   "outputs": [
    {
     "name": "stdout",
     "output_type": "stream",
     "text": [
      "Heroes of Pymoli Data Analysis\n",
      "Observed trend 1: The game is more popular with males than females\n",
      "Observed trend 2: In spite of the higher popularity of the game among males, the average purchase by each gender is about the same (~$3)\n"
     ]
    }
   ],
   "source": [
    "print(\"Heroes of Pymoli Data Analysis\")\n",
    "print(\"Observed trend 1: The game is more popular with males than females by a factorof six.\")\n",
    "print(\"Observed trend 2: In spite of the higher popularity of the game among males, the average purchase size is about the same.\")\n",
    "print(\n",
    "    "
   ]
  },
  {
   "cell_type": "code",
   "execution_count": 729,
   "metadata": {
    "collapsed": true
   },
   "outputs": [],
   "source": [
    "import pandas as pd\n",
    "import numpy as np"
   ]
  },
  {
   "cell_type": "code",
   "execution_count": 694,
   "metadata": {},
   "outputs": [],
   "source": [
    "file = \"purchase_data.json\"\n",
    "purchase_data_df = pd.read_json(file)"
   ]
  },
  {
   "cell_type": "code",
   "execution_count": 695,
   "metadata": {
    "collapsed": true
   },
   "outputs": [],
   "source": [
    "##### Player Count\n",
    "#####     Total Number of Players"
   ]
  },
  {
   "cell_type": "code",
   "execution_count": 696,
   "metadata": {
    "scrolled": true
   },
   "outputs": [
    {
     "data": {
      "text/html": [
       "<div>\n",
       "<style>\n",
       "    .dataframe thead tr:only-child th {\n",
       "        text-align: right;\n",
       "    }\n",
       "\n",
       "    .dataframe thead th {\n",
       "        text-align: left;\n",
       "    }\n",
       "\n",
       "    .dataframe tbody tr th {\n",
       "        vertical-align: top;\n",
       "    }\n",
       "</style>\n",
       "<table border=\"1\" class=\"dataframe\">\n",
       "  <thead>\n",
       "    <tr style=\"text-align: right;\">\n",
       "      <th></th>\n",
       "      <th>Total Players</th>\n",
       "    </tr>\n",
       "  </thead>\n",
       "  <tbody>\n",
       "    <tr>\n",
       "      <th>0</th>\n",
       "      <td>573</td>\n",
       "    </tr>\n",
       "  </tbody>\n",
       "</table>\n",
       "</div>"
      ],
      "text/plain": [
       "   Total Players\n",
       "0            573"
      ]
     },
     "execution_count": 696,
     "metadata": {},
     "output_type": "execute_result"
    }
   ],
   "source": [
    "PlayerCount = purchase_data_df[\"SN\"].nunique()\n",
    "# Force into a frame\n",
    "PlayerCount_df"
   ]
  },
  {
   "cell_type": "code",
   "execution_count": 697,
   "metadata": {
    "collapsed": true
   },
   "outputs": [],
   "source": [
    "##### Purchasing Analysis (Total)\n",
    "#####     Number of Unique Items"
   ]
  },
  {
   "cell_type": "code",
   "execution_count": 698,
   "metadata": {},
   "outputs": [],
   "source": [
    "UniqueItemCount = purchase_data_df[\"Item ID\"].nunique()\n",
    "#print(\"Number of Unique Items:\",UniqueItemCount)"
   ]
  },
  {
   "cell_type": "code",
   "execution_count": 699,
   "metadata": {
    "collapsed": true
   },
   "outputs": [],
   "source": [
    "##### Purchasing Analysis (Total)\n",
    "#####     Average Purchase Price"
   ]
  },
  {
   "cell_type": "code",
   "execution_count": 700,
   "metadata": {},
   "outputs": [],
   "source": [
    "AverageOverallPurchasePrice =(\"$%.2f\" % purchase_data_df[\"Price\"].mean())\n",
    "#print(\"Average Purchase Price:\",AverageOverallPurchasePrice)"
   ]
  },
  {
   "cell_type": "code",
   "execution_count": 701,
   "metadata": {
    "collapsed": true
   },
   "outputs": [],
   "source": [
    "##### Purchasing Analysis (Total)\n",
    "#####     Total Number of Purchases"
   ]
  },
  {
   "cell_type": "code",
   "execution_count": 702,
   "metadata": {},
   "outputs": [],
   "source": [
    "OverallTotalNumberOfPurchases = purchase_data_df[\"Price\"].count()\n",
    "#print(\"Total Number of Purchases:\",OverallTotalNumberOfPurchases)"
   ]
  },
  {
   "cell_type": "code",
   "execution_count": 703,
   "metadata": {
    "collapsed": true
   },
   "outputs": [],
   "source": [
    "##### Purchasing Analysis (Total)\n",
    "#####     Total Revenue"
   ]
  },
  {
   "cell_type": "code",
   "execution_count": 704,
   "metadata": {},
   "outputs": [],
   "source": [
    "OverallTotalRevenue = (\"$%.2f\" % purchase_data_df[\"Price\"].sum())\n",
    "#print(\"Total Revenue:\",OverallTotalRevenue)"
   ]
  },
  {
   "cell_type": "code",
   "execution_count": 705,
   "metadata": {},
   "outputs": [
    {
     "data": {
      "text/html": [
       "<div>\n",
       "<style>\n",
       "    .dataframe thead tr:only-child th {\n",
       "        text-align: right;\n",
       "    }\n",
       "\n",
       "    .dataframe thead th {\n",
       "        text-align: left;\n",
       "    }\n",
       "\n",
       "    .dataframe tbody tr th {\n",
       "        vertical-align: top;\n",
       "    }\n",
       "</style>\n",
       "<table border=\"1\" class=\"dataframe\">\n",
       "  <thead>\n",
       "    <tr style=\"text-align: right;\">\n",
       "      <th></th>\n",
       "      <th>Average Price</th>\n",
       "      <th>Number of Purchases</th>\n",
       "      <th>Number of Unique Items</th>\n",
       "      <th>Total Revenue</th>\n",
       "    </tr>\n",
       "  </thead>\n",
       "  <tbody>\n",
       "    <tr>\n",
       "      <th>0</th>\n",
       "      <td>$2.93</td>\n",
       "      <td>780</td>\n",
       "      <td>183</td>\n",
       "      <td>$2286.33</td>\n",
       "    </tr>\n",
       "  </tbody>\n",
       "</table>\n",
       "</div>"
      ],
      "text/plain": [
       "  Average Price   Number of Purchases  Number of Unique Items  Total Revenue\n",
       "0          $2.93                  780                      183      $2286.33"
      ]
     },
     "execution_count": 705,
     "metadata": {},
     "output_type": "execute_result"
    }
   ],
   "source": [
    "PurchasingAnalysis_dict = [{\"Number of Purchases\": OverallTotalNumberOfPurchases,\n",
    "                            \"Average Price \": AverageOverallPurchasePrice,\n",
    "                            \"Number of Unique Items \": UniqueItemCount,\n",
    "                            \"Total Revenue\": OverallTotalRevenue}]\n",
    "PurchasingAnalysis_df = pd.DataFrame(PurchasingAnalysis_dict)\n",
    "PurchasingAnalysis_df"
   ]
  },
  {
   "cell_type": "code",
   "execution_count": 706,
   "metadata": {
    "collapsed": true
   },
   "outputs": [],
   "source": [
    "##### Gender Demographics\n",
    "#####     Percentage and Count of Male Players\n",
    "#####     Percentage and Count of Female Players\n",
    "#####     Percentage and Count of Other / Non-Disclosed"
   ]
  },
  {
   "cell_type": "code",
   "execution_count": 707,
   "metadata": {},
   "outputs": [],
   "source": [
    "# We need to remove irrelevant columns from purchase details so we can identify individuals uniquely before counting them \n",
    "GenderTotalsL1_df = purchase_data_df[[\"SN\",\"Gender\"]]"
   ]
  },
  {
   "cell_type": "code",
   "execution_count": 708,
   "metadata": {},
   "outputs": [],
   "source": [
    "GenderTotalsL2_df = GenderTotalsL1_df.drop_duplicates()"
   ]
  },
  {
   "cell_type": "code",
   "execution_count": 709,
   "metadata": {
    "scrolled": true
   },
   "outputs": [],
   "source": [
    "# This should have worked too, but causes problems downstream: GenderTotalsL3_df = GenderTotalsL2_df[\"Gender\"].value_counts()\n",
    "\n",
    "GenderTotalsL3_df = GenderTotalsL2_df.groupby(\"Gender\").count().reset_index()\n",
    "# Rename \"SN\" column to \"Count\"\n",
    "GenderTotalsL3_df=GenderTotalsL3_df.rename(columns = {'SN':'Count'})"
   ]
  },
  {
   "cell_type": "code",
   "execution_count": 710,
   "metadata": {},
   "outputs": [],
   "source": [
    "Percentage = 100*GenderTotalsL3_df[\"Count\"]/PlayerCount"
   ]
  },
  {
   "cell_type": "code",
   "execution_count": 711,
   "metadata": {},
   "outputs": [
    {
     "data": {
      "text/plain": [
       "Index(['Gender', 'Count', 'Percentage'], dtype='object')"
      ]
     },
     "execution_count": 711,
     "metadata": {},
     "output_type": "execute_result"
    }
   ],
   "source": [
    "GenderTotalsL3_df[\"Percentage\"] = Percentage.map(\"{:.2f}%\".format)\n",
    "GenderTotalsL3_df.columns"
   ]
  },
  {
   "cell_type": "code",
   "execution_count": 712,
   "metadata": {
    "collapsed": true
   },
   "outputs": [],
   "source": [
    "##### Purchasing Analysis (Gender), Broken by Gender\n",
    "#####     Purchase Count"
   ]
  },
  {
   "cell_type": "code",
   "execution_count": 713,
   "metadata": {},
   "outputs": [
    {
     "data": {
      "text/html": [
       "<div>\n",
       "<style>\n",
       "    .dataframe thead tr:only-child th {\n",
       "        text-align: right;\n",
       "    }\n",
       "\n",
       "    .dataframe thead th {\n",
       "        text-align: left;\n",
       "    }\n",
       "\n",
       "    .dataframe tbody tr th {\n",
       "        vertical-align: top;\n",
       "    }\n",
       "</style>\n",
       "<table border=\"1\" class=\"dataframe\">\n",
       "  <thead>\n",
       "    <tr style=\"text-align: right;\">\n",
       "      <th></th>\n",
       "      <th>Count</th>\n",
       "    </tr>\n",
       "    <tr>\n",
       "      <th>Gender</th>\n",
       "      <th></th>\n",
       "    </tr>\n",
       "  </thead>\n",
       "  <tbody>\n",
       "    <tr>\n",
       "      <th>Female</th>\n",
       "      <td>136</td>\n",
       "    </tr>\n",
       "    <tr>\n",
       "      <th>Male</th>\n",
       "      <td>633</td>\n",
       "    </tr>\n",
       "    <tr>\n",
       "      <th>Other / Non-Disclosed</th>\n",
       "      <td>11</td>\n",
       "    </tr>\n",
       "  </tbody>\n",
       "</table>\n",
       "</div>"
      ],
      "text/plain": [
       "                       Count\n",
       "Gender                      \n",
       "Female                   136\n",
       "Male                     633\n",
       "Other / Non-Disclosed     11"
      ]
     },
     "execution_count": 713,
     "metadata": {},
     "output_type": "execute_result"
    }
   ],
   "source": [
    "PurchaseCountByGenderL1_df = purchase_data_df[[\"SN\",\"Gender\"]]\n",
    "PurchaseCountByGenderL2_df = PurchaseCountByGenderL1_df.groupby(\"Gender\").count()\n",
    "\n",
    "# Rename \"SN\" column to \"Count\"\n",
    "PurchaseCountByGenderL2_df = PurchaseCountByGenderL2_df.rename(columns = {'SN':'Count'})\n",
    "PurchaseCountByGenderL2_df"
   ]
  },
  {
   "cell_type": "code",
   "execution_count": 714,
   "metadata": {
    "collapsed": true
   },
   "outputs": [],
   "source": [
    "##### Purchasing Analysis (Gender), Broken by Gender\n",
    "#####     Average Purchase Price"
   ]
  },
  {
   "cell_type": "code",
   "execution_count": 715,
   "metadata": {},
   "outputs": [
    {
     "data": {
      "text/html": [
       "<div>\n",
       "<style>\n",
       "    .dataframe thead tr:only-child th {\n",
       "        text-align: right;\n",
       "    }\n",
       "\n",
       "    .dataframe thead th {\n",
       "        text-align: left;\n",
       "    }\n",
       "\n",
       "    .dataframe tbody tr th {\n",
       "        vertical-align: top;\n",
       "    }\n",
       "</style>\n",
       "<table border=\"1\" class=\"dataframe\">\n",
       "  <thead>\n",
       "    <tr style=\"text-align: right;\">\n",
       "      <th></th>\n",
       "      <th>Average Purchase</th>\n",
       "    </tr>\n",
       "    <tr>\n",
       "      <th>Gender</th>\n",
       "      <th></th>\n",
       "    </tr>\n",
       "  </thead>\n",
       "  <tbody>\n",
       "    <tr>\n",
       "      <th>Female</th>\n",
       "      <td>$2.82</td>\n",
       "    </tr>\n",
       "    <tr>\n",
       "      <th>Male</th>\n",
       "      <td>$2.95</td>\n",
       "    </tr>\n",
       "    <tr>\n",
       "      <th>Other / Non-Disclosed</th>\n",
       "      <td>$3.25</td>\n",
       "    </tr>\n",
       "  </tbody>\n",
       "</table>\n",
       "</div>"
      ],
      "text/plain": [
       "                      Average Purchase\n",
       "Gender                                \n",
       "Female                           $2.82\n",
       "Male                             $2.95\n",
       "Other / Non-Disclosed            $3.25"
      ]
     },
     "execution_count": 715,
     "metadata": {},
     "output_type": "execute_result"
    }
   ],
   "source": [
    "AveragePurchaseByGenderL1_df = purchase_data_df[[\"SN\",\"Gender\",\"Price\"]]\n",
    "AveragePurchaseByGenderL2_df = AveragePurchaseByGenderL1_df.groupby(\"Gender\").mean()\n",
    "AveragePurchaseByGenderL2_df[\"Price\"] = AveragePurchaseByGenderL2_df[\"Price\"].map(\"${:.2f}\".format)\n",
    "AveragePurchaseByGenderL2_df = AveragePurchaseByGenderL2_df.rename(columns = {\"Price\":\"Average Purchase\"})\n",
    "AveragePurchaseByGenderL2_df"
   ]
  },
  {
   "cell_type": "code",
   "execution_count": 716,
   "metadata": {
    "collapsed": true
   },
   "outputs": [],
   "source": [
    "##### Purchasing Analysis (Gender), Broken by Gender\n",
    "#####     Total Purchase Value"
   ]
  },
  {
   "cell_type": "code",
   "execution_count": 717,
   "metadata": {},
   "outputs": [
    {
     "data": {
      "text/html": [
       "<div>\n",
       "<style>\n",
       "    .dataframe thead tr:only-child th {\n",
       "        text-align: right;\n",
       "    }\n",
       "\n",
       "    .dataframe thead th {\n",
       "        text-align: left;\n",
       "    }\n",
       "\n",
       "    .dataframe tbody tr th {\n",
       "        vertical-align: top;\n",
       "    }\n",
       "</style>\n",
       "<table border=\"1\" class=\"dataframe\">\n",
       "  <thead>\n",
       "    <tr style=\"text-align: right;\">\n",
       "      <th></th>\n",
       "      <th>Gender</th>\n",
       "      <th>Total Purchase Value</th>\n",
       "    </tr>\n",
       "  </thead>\n",
       "  <tbody>\n",
       "    <tr>\n",
       "      <th>0</th>\n",
       "      <td>Female</td>\n",
       "      <td>$382.91</td>\n",
       "    </tr>\n",
       "    <tr>\n",
       "      <th>1</th>\n",
       "      <td>Male</td>\n",
       "      <td>$1867.68</td>\n",
       "    </tr>\n",
       "    <tr>\n",
       "      <th>2</th>\n",
       "      <td>Other / Non-Disclosed</td>\n",
       "      <td>$35.74</td>\n",
       "    </tr>\n",
       "  </tbody>\n",
       "</table>\n",
       "</div>"
      ],
      "text/plain": [
       "                  Gender Total Purchase Value\n",
       "0                 Female              $382.91\n",
       "1                   Male             $1867.68\n",
       "2  Other / Non-Disclosed               $35.74"
      ]
     },
     "execution_count": 717,
     "metadata": {},
     "output_type": "execute_result"
    }
   ],
   "source": [
    "TotalPurchaseByGenderL1_df = purchase_data_df[[\"SN\",\"Gender\",\"Price\"]]\n",
    "TotalPurchaseByGenderL2_df = TotalPurchaseByGenderL1_df.groupby(\"Gender\").sum().reset_index()\n",
    "TotalPurchaseByGenderL2_df[\"Price\"] = TotalPurchaseByGenderL2_df[\"Price\"].map(\"${:.2f}\".format)\n",
    "TotalPurchaseByGenderL2_df = TotalPurchaseByGenderL2_df.rename(columns = {\"Price\":\"Total Purchase Value\"})\n",
    "TotalPurchaseByGenderL2_df"
   ]
  },
  {
   "cell_type": "code",
   "execution_count": 718,
   "metadata": {
    "collapsed": true
   },
   "outputs": [],
   "source": [
    "##### Purchasing Analysis (Gender), Broken by Gender\n",
    "#####     Normalized Totals"
   ]
  },
  {
   "cell_type": "code",
   "execution_count": 721,
   "metadata": {},
   "outputs": [
    {
     "data": {
      "text/html": [
       "<div>\n",
       "<style>\n",
       "    .dataframe thead tr:only-child th {\n",
       "        text-align: right;\n",
       "    }\n",
       "\n",
       "    .dataframe thead th {\n",
       "        text-align: left;\n",
       "    }\n",
       "\n",
       "    .dataframe tbody tr th {\n",
       "        vertical-align: top;\n",
       "    }\n",
       "</style>\n",
       "<table border=\"1\" class=\"dataframe\">\n",
       "  <thead>\n",
       "    <tr style=\"text-align: right;\">\n",
       "      <th></th>\n",
       "      <th>Gender</th>\n",
       "      <th>Count</th>\n",
       "      <th>Percentage</th>\n",
       "      <th>Total Purchase Value</th>\n",
       "    </tr>\n",
       "  </thead>\n",
       "  <tbody>\n",
       "    <tr>\n",
       "      <th>0</th>\n",
       "      <td>Female</td>\n",
       "      <td>100</td>\n",
       "      <td>17.45%</td>\n",
       "      <td>$382.91</td>\n",
       "    </tr>\n",
       "    <tr>\n",
       "      <th>1</th>\n",
       "      <td>Male</td>\n",
       "      <td>465</td>\n",
       "      <td>81.15%</td>\n",
       "      <td>$1867.68</td>\n",
       "    </tr>\n",
       "    <tr>\n",
       "      <th>2</th>\n",
       "      <td>Other / Non-Disclosed</td>\n",
       "      <td>8</td>\n",
       "      <td>1.40%</td>\n",
       "      <td>$35.74</td>\n",
       "    </tr>\n",
       "  </tbody>\n",
       "</table>\n",
       "</div>"
      ],
      "text/plain": [
       "                  Gender  Count Percentage Total Purchase Value\n",
       "0                 Female    100     17.45%              $382.91\n",
       "1                   Male    465     81.15%             $1867.68\n",
       "2  Other / Non-Disclosed      8      1.40%               $35.74"
      ]
     },
     "execution_count": 721,
     "metadata": {},
     "output_type": "execute_result"
    }
   ],
   "source": [
    "GenderNormalizedL1df = pd.merge(GenderTotalsL3_df,TotalPurchaseByGenderL2_df, on=['Gender'])\n",
    "GenderNormalizedL1df"
   ]
  },
  {
   "cell_type": "code",
   "execution_count": 728,
   "metadata": {},
   "outputs": [
    {
     "name": "stdout",
     "output_type": "stream",
     "text": [
      "I have run out of time. I have worked on this for more than thirty hours and I have a day job.\n"
     ]
    }
   ],
   "source": [
    "print(\"I have worked on this for more than thirty hours and I have a day job. I have run out of time.\" )"
   ]
  },
  {
   "cell_type": "code",
   "execution_count": null,
   "metadata": {
    "collapsed": true
   },
   "outputs": [],
   "source": []
  }
 ],
 "metadata": {
  "kernelspec": {
   "display_name": "Python 3",
   "language": "python",
   "name": "python3"
  },
  "language_info": {
   "codemirror_mode": {
    "name": "ipython",
    "version": 3
   },
   "file_extension": ".py",
   "mimetype": "text/x-python",
   "name": "python",
   "nbconvert_exporter": "python",
   "pygments_lexer": "ipython3",
   "version": "3.6.3"
  }
 },
 "nbformat": 4,
 "nbformat_minor": 2
}
